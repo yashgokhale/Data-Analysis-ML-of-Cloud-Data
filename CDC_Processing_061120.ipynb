{
 "cells": [
  {
   "cell_type": "code",
   "execution_count": 179,
   "metadata": {},
   "outputs": [],
   "source": [
    "from scipy.io import netcdf\n",
    "import numpy as np\n",
    "import matplotlib.pyplot as plt\n",
    "from netCDF4 import Dataset\n",
    "import pandas as pd\n",
    "import matplotlib.pyplot as plt\n",
    "import statistics\n",
    "\n",
    "import matplotlib.style\n",
    "\n",
    "import matplotlib\n",
    "\n",
    "matplotlib.style.use('classic')"
   ]
  },
  {
   "cell_type": "markdown",
   "metadata": {},
   "source": [
    "# Importing and working with data"
   ]
  },
  {
   "cell_type": "code",
   "execution_count": 180,
   "metadata": {},
   "outputs": [],
   "source": [
    "import glob,os,sys\n",
    "os.chdir('C:/Users/yashg/Documents/Cloud_Data_Files')\n",
    "def read_files(extensions,location):\n",
    "    l=[]\n",
    "    for types in extensions:\n",
    "        l.append(glob.glob(f'./{location}/*{types}'))\n",
    "    l=[val for sublist in l for val in sublist]\n",
    "    return l"
   ]
  },
  {
   "cell_type": "code",
   "execution_count": 181,
   "metadata": {},
   "outputs": [],
   "source": [
    "k=read_files(['.cdf','.nc'],'KAZRARSCL')\n",
    "m=read_files(['.cdf','.nc'],'Microbase')\n",
    "r=read_files(['.cdf','.nc'],'Raman Lidar')\n",
    "s=read_files(['.cdf','.nc'],'Surface')\n",
    "e=read_files(['.cdf','.nc'],'Ext')\n",
    "master=k+m+r+s+e"
   ]
  },
  {
   "cell_type": "code",
   "execution_count": 182,
   "metadata": {},
   "outputs": [],
   "source": [
    "def date_files(date,master=master):\n",
    "    f=[]\n",
    "    for file in master:\n",
    "        if date in file:\n",
    "            f.append(file)\n",
    "    return f\n",
    "\n",
    "def generate_cdfs(date):\n",
    "    l=[]\n",
    "    f=date_files(date)\n",
    "    for file in f:\n",
    "        l.append(Dataset(file))\n",
    "    print('Output has 5 files')\n",
    "    print('File order is\\t1.KAZRARSCL\\t2.Microbase\\t3.Raman Lidar\\t4. Surface\\t5. Ext')\n",
    "    return l"
   ]
  },
  {
   "cell_type": "code",
   "execution_count": 183,
   "metadata": {},
   "outputs": [],
   "source": [
    "date=['20110505','20110513','20110514','20110515','20110519','20110527','20110528','20110529','20110601']"
   ]
  },
  {
   "cell_type": "code",
   "execution_count": 184,
   "metadata": {},
   "outputs": [
    {
     "name": "stdout",
     "output_type": "stream",
     "text": [
      "Output has 5 files\n",
      "File order is\t1.KAZRARSCL\t2.Microbase\t3.Raman Lidar\t4. Surface\t5. Ext\n"
     ]
    }
   ],
   "source": [
    "l=generate_cdfs(date[1])\n",
    "k1,m1,r1,s1,e1=l\n",
    "r=['KAZRARSCL','Microbase','Raman Lidar','Surface','Ext']\n",
    "v=['Velocity,Reflectivity,Spectral Width',\n",
    "  'Liquid Water Content',\n",
    "  'Height,Time,Temperature',\n",
    "   'CCN',\n",
    "  'Extinction']\n",
    "lt=[]\n",
    "lh=[]\n",
    "for i,f in enumerate(l):\n",
    "    if i<4:\n",
    "        lt.append(len(f['time'][:]))\n",
    "        if i==3:\n",
    "            lh.append(0)\n",
    "        else:\n",
    "            lh.append(len(f['height'][:]))\n",
    "    else:\n",
    "        lt.append(len(f['time_offset'][:]))\n",
    "        lh.append(len(f['height_high'][:]))\n",
    "d={'Radar':r,'Time steps':lt,'Height steps':lh,'Extracted Variables':v}\n",
    "dim=pd.DataFrame(d)\n",
    "tk=np.ma.filled(k1['time'][:])\n",
    "hk=np.ma.filled(k1['height'][:])\n",
    "tm=np.ma.filled(m1['time'][:])\n",
    "hm=np.ma.filled(m1['height'][:])\n",
    "tr=np.ma.filled(r1['time'][:])\n",
    "hr=np.ma.filled(r1['height'][:])*1000\n",
    "ts=np.ma.filled(s1['time'][:])\n",
    "te=np.ma.filled(e1['time_offset'][:])\n",
    "he=np.ma.filled(e1['height_high'][:])*1000\n",
    "v=np.ma.filled(k1['mean_doppler_velocity'][:])\n",
    "ref=np.ma.filled(k1['reflectivity'][:])\n",
    "sw=np.ma.filled(k1['spectral_width'][:])\n",
    "lwc=np.ma.filled(m1['liquid_water_content'][:])\n",
    "temp=np.ma.filled(r1['temperature'][:])+273.15\n",
    "ccn=np.ma.filled(s1['N_CCN'][:])\n",
    "ext=np.ma.filled(e1['extinction_merged_bscat'][:])\n",
    "var=['Velocity','Reflectivity','Spectral_Width','Liquid_Water_Content','Temperature','CCN','Extinction']\n",
    "shap=[v.shape,ref.shape,sw.shape,lwc.shape,temp.shape,ccn.shape,ext.shape]\n",
    "mat={'Variable':var,'Shape':shap}\n",
    "mat=pd.DataFrame(mat)"
   ]
  },
  {
   "cell_type": "code",
   "execution_count": 185,
   "metadata": {},
   "outputs": [
    {
     "data": {
      "text/html": [
       "<div>\n",
       "<style scoped>\n",
       "    .dataframe tbody tr th:only-of-type {\n",
       "        vertical-align: middle;\n",
       "    }\n",
       "\n",
       "    .dataframe tbody tr th {\n",
       "        vertical-align: top;\n",
       "    }\n",
       "\n",
       "    .dataframe thead th {\n",
       "        text-align: right;\n",
       "    }\n",
       "</style>\n",
       "<table border=\"1\" class=\"dataframe\">\n",
       "  <thead>\n",
       "    <tr style=\"text-align: right;\">\n",
       "      <th></th>\n",
       "      <th>Radar</th>\n",
       "      <th>Time steps</th>\n",
       "      <th>Height steps</th>\n",
       "      <th>Extracted Variables</th>\n",
       "    </tr>\n",
       "  </thead>\n",
       "  <tbody>\n",
       "    <tr>\n",
       "      <th>0</th>\n",
       "      <td>KAZRARSCL</td>\n",
       "      <td>21600</td>\n",
       "      <td>596</td>\n",
       "      <td>Velocity,Reflectivity,Spectral Width</td>\n",
       "    </tr>\n",
       "    <tr>\n",
       "      <th>1</th>\n",
       "      <td>Microbase</td>\n",
       "      <td>21600</td>\n",
       "      <td>596</td>\n",
       "      <td>Liquid Water Content</td>\n",
       "    </tr>\n",
       "    <tr>\n",
       "      <th>2</th>\n",
       "      <td>Raman Lidar</td>\n",
       "      <td>144</td>\n",
       "      <td>198</td>\n",
       "      <td>Height,Time,Temperature</td>\n",
       "    </tr>\n",
       "    <tr>\n",
       "      <th>3</th>\n",
       "      <td>Surface</td>\n",
       "      <td>1440</td>\n",
       "      <td>0</td>\n",
       "      <td>CCN</td>\n",
       "    </tr>\n",
       "    <tr>\n",
       "      <th>4</th>\n",
       "      <td>Ext</td>\n",
       "      <td>1440</td>\n",
       "      <td>1000</td>\n",
       "      <td>Extinction</td>\n",
       "    </tr>\n",
       "  </tbody>\n",
       "</table>\n",
       "</div>"
      ],
      "text/plain": [
       "         Radar  Time steps  Height steps                   Extracted Variables\n",
       "0    KAZRARSCL       21600           596  Velocity,Reflectivity,Spectral Width\n",
       "1    Microbase       21600           596                  Liquid Water Content\n",
       "2  Raman Lidar         144           198               Height,Time,Temperature\n",
       "3      Surface        1440             0                                   CCN\n",
       "4          Ext        1440          1000                            Extinction"
      ]
     },
     "execution_count": 185,
     "metadata": {},
     "output_type": "execute_result"
    }
   ],
   "source": [
    "dim"
   ]
  },
  {
   "cell_type": "code",
   "execution_count": 186,
   "metadata": {},
   "outputs": [
    {
     "data": {
      "text/html": [
       "<div>\n",
       "<style scoped>\n",
       "    .dataframe tbody tr th:only-of-type {\n",
       "        vertical-align: middle;\n",
       "    }\n",
       "\n",
       "    .dataframe tbody tr th {\n",
       "        vertical-align: top;\n",
       "    }\n",
       "\n",
       "    .dataframe thead th {\n",
       "        text-align: right;\n",
       "    }\n",
       "</style>\n",
       "<table border=\"1\" class=\"dataframe\">\n",
       "  <thead>\n",
       "    <tr style=\"text-align: right;\">\n",
       "      <th></th>\n",
       "      <th>Variable</th>\n",
       "      <th>Shape</th>\n",
       "    </tr>\n",
       "  </thead>\n",
       "  <tbody>\n",
       "    <tr>\n",
       "      <th>0</th>\n",
       "      <td>Velocity</td>\n",
       "      <td>(21600, 596)</td>\n",
       "    </tr>\n",
       "    <tr>\n",
       "      <th>1</th>\n",
       "      <td>Reflectivity</td>\n",
       "      <td>(21600, 596)</td>\n",
       "    </tr>\n",
       "    <tr>\n",
       "      <th>2</th>\n",
       "      <td>Spectral_Width</td>\n",
       "      <td>(21600, 596)</td>\n",
       "    </tr>\n",
       "    <tr>\n",
       "      <th>3</th>\n",
       "      <td>Liquid_Water_Content</td>\n",
       "      <td>(21600, 596)</td>\n",
       "    </tr>\n",
       "    <tr>\n",
       "      <th>4</th>\n",
       "      <td>Temperature</td>\n",
       "      <td>(144, 198)</td>\n",
       "    </tr>\n",
       "    <tr>\n",
       "      <th>5</th>\n",
       "      <td>CCN</td>\n",
       "      <td>(1440,)</td>\n",
       "    </tr>\n",
       "    <tr>\n",
       "      <th>6</th>\n",
       "      <td>Extinction</td>\n",
       "      <td>(1440, 1000)</td>\n",
       "    </tr>\n",
       "  </tbody>\n",
       "</table>\n",
       "</div>"
      ],
      "text/plain": [
       "               Variable         Shape\n",
       "0              Velocity  (21600, 596)\n",
       "1          Reflectivity  (21600, 596)\n",
       "2        Spectral_Width  (21600, 596)\n",
       "3  Liquid_Water_Content  (21600, 596)\n",
       "4           Temperature    (144, 198)\n",
       "5                   CCN       (1440,)\n",
       "6            Extinction  (1440, 1000)"
      ]
     },
     "execution_count": 186,
     "metadata": {},
     "output_type": "execute_result"
    }
   ],
   "source": [
    "mat"
   ]
  },
  {
   "cell_type": "markdown",
   "metadata": {},
   "source": [
    "# Clustering Functions"
   ]
  },
  {
   "cell_type": "code",
   "execution_count": 187,
   "metadata": {},
   "outputs": [],
   "source": [
    "#Extracting indices of extinction\n",
    "def extinction(file,tr,hr,threshold=15,upper=100):\n",
    "    base_h=np.zeros(len(tr))\n",
    "    extin_h=np.zeros(len(tr))\n",
    "    ht=np.zeros(len(tr))\n",
    "    for i in range(len(file)):\n",
    "        em=file[i]\n",
    "        for k,j in enumerate(em):\n",
    "            if j>threshold and j<upper:\n",
    "                base_h[i]=k\n",
    "                extin_h[i]=j\n",
    "                ht[i]=hr[k]\n",
    "                break\n",
    "    return base_h,extin_h,ht"
   ]
  },
  {
   "cell_type": "code",
   "execution_count": 188,
   "metadata": {},
   "outputs": [],
   "source": [
    "def temporal_clustering(t1,t2):\n",
    "    \"\"\"\n",
    "    t2 is the heights for the higher resolved data whereas\n",
    "    t1 is the heights for the lower resolved data\n",
    "    eg: t1-Raman Lidar\n",
    "        t2-Microbase,KAZRARSCL\n",
    "    \"\"\"\n",
    "    t_index=[]\n",
    "    for i in range(len(t1)-1):\n",
    "        arg=[]\n",
    "        for j in range(len(t2)):\n",
    "            if t2[j]>=t1[i] and t2[j]<=t1[i+1]:\n",
    "                arg.append(j)\n",
    "        t_index.append(arg)\n",
    "    return t_index"
   ]
  },
  {
   "cell_type": "code",
   "execution_count": 189,
   "metadata": {},
   "outputs": [],
   "source": [
    "def height_clustering(h1,h2):\n",
    "    u=[]\n",
    "    for i in h1:\n",
    "        x=np.argmin(np.abs(i-h2))\n",
    "        u.append(x)\n",
    "    return u"
   ]
  },
  {
   "cell_type": "code",
   "execution_count": 190,
   "metadata": {},
   "outputs": [],
   "source": [
    "def time_clustering(t1,t2):\n",
    "    u=[]\n",
    "    for i in t1:\n",
    "        x=np.argmin(np.abs(i-t2))\n",
    "        u.append(x)\n",
    "    return u"
   ]
  },
  {
   "cell_type": "code",
   "execution_count": 191,
   "metadata": {},
   "outputs": [],
   "source": [
    "def spatial_temporal_clustering(h1,h2,t1,t2,pars):\n",
    "    targs=temporal_clustering(t1,tm)\n",
    "    hargs=height_clustering(h1,hm)\n",
    "    u=[]\n",
    "    for i in targs:\n",
    "        f=[]\n",
    "        for j in hargs:\n",
    "            f.append([pars[ii,j] for ii in i])\n",
    "        u.append(f)\n",
    "    return u"
   ]
  },
  {
   "cell_type": "code",
   "execution_count": 192,
   "metadata": {},
   "outputs": [],
   "source": [
    "def filtering(z1,z2,t1,t2,param):\n",
    "    miss=param.missing_value\n",
    "    pars=np.ma.filled(param[:])\n",
    "    par=spatial_temporal_clustering(z1,z2,t1,t2,pars)\n",
    "    avg=[]\n",
    "    stdev=[]\n",
    "    for i in range(len(par)):\n",
    "        par[i]=np.array(par[i])\n",
    "        par[i]=par[i][par[i]!=miss]\n",
    "        par[i]=par[i][par[i]!=0]\n",
    "        if par[i].mean()!=par[i].mean():\n",
    "            avg.append(0)\n",
    "            stdev.append(0)\n",
    "        else:\n",
    "            avg.append(par[i].mean())\n",
    "            stdev.append(par[i].std())\n",
    "    return avg,stdev"
   ]
  },
  {
   "cell_type": "markdown",
   "metadata": {},
   "source": [
    "# Generalizing Data from Dates"
   ]
  },
  {
   "cell_type": "code",
   "execution_count": 193,
   "metadata": {},
   "outputs": [],
   "source": [
    "def data_output(dat,low,up):\n",
    "    k1,m1,r1,s1,e1=generate_cdfs(dat)\n",
    "    tk=np.ma.filled(k1['time'][:])\n",
    "    hk=np.ma.filled(k1['height'][:])\n",
    "    tm=np.ma.filled(m1['time'][:])\n",
    "    hm=np.ma.filled(m1['height'][:])\n",
    "    tr=np.ma.filled(r1['time'][:])\n",
    "    hr=np.ma.filled(r1['height'][:])*1000\n",
    "    ts=np.ma.filled(s1['time'][:])\n",
    "    te=np.ma.filled(e1['time_offset'][:])\n",
    "    he=np.ma.filled(e1['height_high'][:])*1000\n",
    "    v=np.ma.filled(k1['mean_doppler_velocity'][:])\n",
    "    ref=np.ma.filled(k1['reflectivity'][:])\n",
    "    sw=np.ma.filled(k1['spectral_width'][:])\n",
    "    lwc=np.ma.filled(m1['liquid_water_content'][:])\n",
    "    temp=np.ma.filled(r1['temperature'][:])+273.15\n",
    "    ccn=np.ma.filled(s1['N_CCN'][:])\n",
    "    ext=np.ma.filled(e1['extinction_merged_bscat'][:])  \n",
    "    exr=r1['ext'][:]\n",
    "    xx=np.argwhere((te>=low) & (te<=up))\n",
    "    xx=[item for sublist in xx for item in sublist]\n",
    "    e_ind,ex,h=extinction(ext,te,he)\n",
    "    e1,e2,e3=extinction(exr,tr,hr)\n",
    "    ttrial=time_clustering(te,tr)\n",
    "    tem=[]\n",
    "    for tt in ttrial:\n",
    "        tem.append(temp[tt,int(e1[tt])])\n",
    "    lwc1,dlwc1=filtering(he,hm,te,tm,m1['liquid_water_content'])\n",
    "    v1,dv1=filtering(he,hk,te,tk,k1['mean_doppler_velocity'])\n",
    "    sw1,dsw1=filtering(he,hk,te,tk,k1['spectral_width'])\n",
    "    ref1,dref1=filtering(he,hk,te,tk,k1['reflectivity'])\n",
    "    date=[dat]*len(lwc1)\n",
    "    lll=[lwc1,dlwc1,v1,dv1,sw1,dsw1,ref1,dref1,tem]\n",
    "    for t in lll:\n",
    "        t=[t[i] for i in xx]\n",
    "    ll=[date,h[1:],lwc1,dlwc1,v1,dv1,sw1,dsw1,ref1,dref1,tem[1:],ex[1:],ccn[1:]]\n",
    "    var=['Date','Height','LWC','LWC_SD','Velocity','Velocity_SD','Spectral_Width','Spectral_Width_SD','Reflectivity','Reflectivity_SD','Temperature','Extinction','CCN']\n",
    "    df={}\n",
    "    for uu in range(len(ll)):\n",
    "        df.update({var[uu]:ll[uu]})\n",
    "    return pd.DataFrame(df)"
   ]
  },
  {
   "cell_type": "code",
   "execution_count": 194,
   "metadata": {},
   "outputs": [
    {
     "name": "stdout",
     "output_type": "stream",
     "text": [
      "Output has 5 files\n",
      "File order is\t1.KAZRARSCL\t2.Microbase\t3.Raman Lidar\t4. Surface\t5. Ext\n"
     ]
    },
    {
     "name": "stderr",
     "output_type": "stream",
     "text": [
      "C:\\ProgramData\\Anaconda3\\lib\\site-packages\\ipykernel_launcher.py:11: RuntimeWarning: Mean of empty slice.\n",
      "  # This is added back by InteractiveShellApp.init_path()\n",
      "C:\\Users\\yashg\\AppData\\Roaming\\Python\\Python37\\site-packages\\numpy\\core\\_methods.py:161: RuntimeWarning: invalid value encountered in true_divide\n",
      "  ret = ret.dtype.type(ret / rcount)\n"
     ]
    },
    {
     "name": "stdout",
     "output_type": "stream",
     "text": [
      "Output has 5 files\n",
      "File order is\t1.KAZRARSCL\t2.Microbase\t3.Raman Lidar\t4. Surface\t5. Ext\n",
      "Output has 5 files\n",
      "File order is\t1.KAZRARSCL\t2.Microbase\t3.Raman Lidar\t4. Surface\t5. Ext\n"
     ]
    }
   ],
   "source": [
    "d13=data_output('20110513',30000,85000)\n",
    "d14=data_output('20110514',10000,50000)\n",
    "#d191=data_output('20110519',0,15000)\n",
    "#d192=data_output('20110519',35000,40000)\n",
    "d29=data_output('20110529',500,1000)"
   ]
  },
  {
   "cell_type": "code",
   "execution_count": 195,
   "metadata": {},
   "outputs": [],
   "source": [
    "frames=[d13,d14,d29]\n",
    "data_combined=pd.concat(frames,ignore_index=True)\n",
    "data_combined.to_csv('C:/Users/yashg/Documents/Cloud_Data_Files/data_from_ext.csv')"
   ]
  }
 ],
 "metadata": {
  "kernelspec": {
   "display_name": "Python 3",
   "language": "python",
   "name": "python3"
  },
  "language_info": {
   "codemirror_mode": {
    "name": "ipython",
    "version": 3
   },
   "file_extension": ".py",
   "mimetype": "text/x-python",
   "name": "python",
   "nbconvert_exporter": "python",
   "pygments_lexer": "ipython3",
   "version": "3.7.3"
  }
 },
 "nbformat": 4,
 "nbformat_minor": 2
}
