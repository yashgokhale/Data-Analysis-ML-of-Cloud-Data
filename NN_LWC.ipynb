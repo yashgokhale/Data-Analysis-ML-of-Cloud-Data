{
  "nbformat": 4,
  "nbformat_minor": 0,
  "metadata": {
    "colab": {
      "name": "NN_LWC",
      "provenance": [],
      "authorship_tag": "ABX9TyMYcglcYjoYUFyJC7acswF5",
      "include_colab_link": true
    },
    "kernelspec": {
      "name": "python3",
      "display_name": "Python 3"
    },
    "accelerator": "TPU"
  },
  "cells": [
    {
      "cell_type": "markdown",
      "metadata": {
        "id": "view-in-github",
        "colab_type": "text"
      },
      "source": [
        "<a href=\"https://colab.research.google.com/github/yashgokhale/Data-Analysis-ML-of-Cloud-Data/blob/master/NN_LWC.ipynb\" target=\"_parent\"><img src=\"https://colab.research.google.com/assets/colab-badge.svg\" alt=\"Open In Colab\"/></a>"
      ]
    },
    {
      "cell_type": "code",
      "metadata": {
        "id": "Twn9fXEreWkb",
        "outputId": "f49627b0-44c3-4f02-fecb-6030dc6d4f47",
        "colab": {
          "base_uri": "https://localhost:8080/",
          "height": 35
        }
      },
      "source": [
        "from google.colab import drive\n",
        "drive.mount('/content/drive/')"
      ],
      "execution_count": 24,
      "outputs": [
        {
          "output_type": "stream",
          "text": [
            "Drive already mounted at /content/drive/; to attempt to forcibly remount, call drive.mount(\"/content/drive/\", force_remount=True).\n"
          ],
          "name": "stdout"
        }
      ]
    },
    {
      "cell_type": "code",
      "metadata": {
        "id": "8xFaCJ3tedR7"
      },
      "source": [
        "import pandas as pd\n",
        "import numpy as np\n",
        "import matplotlib.pyplot as plt\n",
        "data = pd.read_csv('/content/drive/My Drive/Colab Notebooks/Master_File_LWC.csv')\n",
        "data=data.drop(columns=['Unnamed: 0'])"
      ],
      "execution_count": 46,
      "outputs": []
    },
    {
      "cell_type": "code",
      "metadata": {
        "id": "zZYO-K-YtkuM"
      },
      "source": [
        "#!pip install tensorflow==2.3.0\n",
        "#!pip install --upgrade tensorflow"
      ],
      "execution_count": 26,
      "outputs": []
    },
    {
      "cell_type": "code",
      "metadata": {
        "id": "EQywwcRYe9g4",
        "outputId": "14890288-aee1-4da0-82ec-51250e3eccd7",
        "colab": {
          "base_uri": "https://localhost:8080/",
          "height": 35
        }
      },
      "source": [
        "from sklearn.model_selection import train_test_split\n",
        "X=data.iloc[:,:-1].values\n",
        "y=data.iloc[:,-1].values\n",
        "y=np.reshape(y,(-1,1))\n",
        "X_train, X_test, y_train, y_test = train_test_split(X,y, test_size=0.2, random_state=19)\n",
        "batch_size =len(X_train)\n",
        "print(X_train.shape, y_train.shape,y_test.shape )"
      ],
      "execution_count": 27,
      "outputs": [
        {
          "output_type": "stream",
          "text": [
            "(1344802, 5) (1344802, 1) (336201, 1)\n"
          ],
          "name": "stdout"
        }
      ]
    },
    {
      "cell_type": "code",
      "metadata": {
        "id": "-0YD6Q46fQ-r"
      },
      "source": [
        "from sklearn.preprocessing import MinMaxScaler\n",
        "scaler = MinMaxScaler()\n",
        "# Train\n",
        "X_train_scaled = scaler.fit_transform(X_train.astype(np.float64))\n",
        "# test\n",
        "X_test_scaled = scaler.fit_transform(X_test.astype(np.float64))\n",
        "# Train\n",
        "y_train_scaled = scaler.fit_transform(y_train.astype(np.float64))\n",
        "# test\n",
        "y_test_scaled = scaler.fit_transform(y_test.astype(np.float64))"
      ],
      "execution_count": 28,
      "outputs": []
    },
    {
      "cell_type": "code",
      "metadata": {
        "id": "_k7ppBMgogkD"
      },
      "source": [
        "FEATURES=list(data.columns[:-1])\n",
        "OUTPUT=['LWC']"
      ],
      "execution_count": 29,
      "outputs": []
    },
    {
      "cell_type": "code",
      "metadata": {
        "id": "ab8hcxjEomFI"
      },
      "source": [
        "from sklearn.preprocessing import MinMaxScaler\n",
        "X_train_d=pd.DataFrame(X_train_scaled,columns=FEATURES)\n",
        "X_test_d=pd.DataFrame(X_test_scaled,columns=FEATURES)\n",
        "y_train_d=pd.DataFrame(y_train_scaled,columns=OUTPUT)['LWC']\n",
        "y_test_d=pd.DataFrame(y_test_scaled,columns=OUTPUT)['LWC']"
      ],
      "execution_count": 39,
      "outputs": []
    },
    {
      "cell_type": "code",
      "metadata": {
        "id": "lVSFvIq-p0I9"
      },
      "source": [
        "import tensorflow as tf\n",
        "feature_col=[tf.feature_column.numeric_column(x) for x in FEATURES]\n",
        "#feature_col=feature_col+[tf.feature_column.numeric_column('LWC')]"
      ],
      "execution_count": 40,
      "outputs": []
    },
    {
      "cell_type": "code",
      "metadata": {
        "id": "YYE-YVJ0q2fM"
      },
      "source": [
        "opti = tf.optimizers.Adam(learning_rate = 0.01)\n",
        "input_func= tf.compat.v1.estimator.inputs.pandas_input_fn(x=X_train_d, \n",
        "                                                y= y_train_d, \n",
        "                                                batch_size=10, \n",
        "                                                num_epochs=1000, \n",
        "                                                shuffle=True)"
      ],
      "execution_count": 41,
      "outputs": []
    },
    {
      "cell_type": "code",
      "metadata": {
        "id": "C86JqnWirkMA"
      },
      "source": [
        "test_input_func = tf.compat.v1.estimator.inputs.pandas_input_fn(x= X_test_d,                                                   \n",
        "                                                 batch_size=100, \n",
        "                                                 num_epochs=1, \n",
        "                                                 shuffle=False)\n",
        "eval_input_func = tf.compat.v1.estimator.inputs.pandas_input_fn(x=X_test_d,\n",
        "                                                      y=y_test_d, \n",
        "                                                      batch_size=10, \n",
        "                                                      num_epochs=1, \n",
        "                                                      shuffle=False)"
      ],
      "execution_count": 42,
      "outputs": []
    },
    {
      "cell_type": "code",
      "metadata": {
        "id": "teNyn5mwsv6T",
        "outputId": "bf9f4847-907d-435e-e2c1-6a56b4c4ac22",
        "colab": {
          "base_uri": "https://localhost:8080/",
          "height": 193
        }
      },
      "source": [
        "estimator = tf.estimator.DNNRegressor(hidden_units=[9,9,3], feature_columns=feature_col, optimizer=opti, dropout=0.5)"
      ],
      "execution_count": 43,
      "outputs": [
        {
          "output_type": "stream",
          "text": [
            "INFO:tensorflow:Using default config.\n",
            "WARNING:tensorflow:Using temporary folder as model directory: /tmp/tmpd0bipo_h\n",
            "INFO:tensorflow:Using config: {'_model_dir': '/tmp/tmpd0bipo_h', '_tf_random_seed': None, '_save_summary_steps': 100, '_save_checkpoints_steps': None, '_save_checkpoints_secs': 600, '_session_config': allow_soft_placement: true\n",
            "graph_options {\n",
            "  rewrite_options {\n",
            "    meta_optimizer_iterations: ONE\n",
            "  }\n",
            "}\n",
            ", '_keep_checkpoint_max': 5, '_keep_checkpoint_every_n_hours': 10000, '_log_step_count_steps': 100, '_train_distribute': None, '_device_fn': None, '_protocol': None, '_eval_distribute': None, '_experimental_distribute': None, '_experimental_max_worker_delay_secs': None, '_session_creation_timeout_secs': 7200, '_service': None, '_cluster_spec': ClusterSpec({}), '_task_type': 'worker', '_task_id': 0, '_global_id_in_cluster': 0, '_master': '', '_evaluation_master': '', '_is_chief': True, '_num_ps_replicas': 0, '_num_worker_replicas': 1}\n"
          ],
          "name": "stdout"
        }
      ]
    },
    {
      "cell_type": "code",
      "metadata": {
        "id": "Ta-Oqn01szpt",
        "outputId": "bb6aa40f-8fb6-411d-fa2c-3841aee0788f",
        "colab": {
          "base_uri": "https://localhost:8080/",
          "height": 1000
        }
      },
      "source": [
        "estimator.train(input_fn=input_func,steps=20000)"
      ],
      "execution_count": 44,
      "outputs": [
        {
          "output_type": "stream",
          "text": [
            "INFO:tensorflow:Calling model_fn.\n",
            "WARNING:tensorflow:Layer dnn is casting an input tensor from dtype float64 to the layer's dtype of float32, which is new behavior in TensorFlow 2.  The layer has dtype float32 because its dtype defaults to floatx.\n",
            "\n",
            "If you intended to run this layer in float32, you can safely ignore this warning. If in doubt, this warning is likely only an issue if you are porting a TensorFlow 1.X model to TensorFlow 2.\n",
            "\n",
            "To change all layers to have dtype float64 by default, call `tf.keras.backend.set_floatx('float64')`. To change just this layer, pass dtype='float64' to the layer constructor. If you are the author of this layer, you can disable autocasting by passing autocast=False to the base Layer constructor.\n",
            "\n",
            "INFO:tensorflow:Done calling model_fn.\n",
            "INFO:tensorflow:Create CheckpointSaverHook.\n",
            "INFO:tensorflow:Graph was finalized.\n",
            "INFO:tensorflow:Running local_init_op.\n",
            "INFO:tensorflow:Done running local_init_op.\n",
            "WARNING:tensorflow:From /usr/local/lib/python3.6/dist-packages/tensorflow/python/training/monitored_session.py:906: start_queue_runners (from tensorflow.python.training.queue_runner_impl) is deprecated and will be removed in a future version.\n",
            "Instructions for updating:\n",
            "To construct input pipelines, use the `tf.data` module.\n",
            "INFO:tensorflow:Calling checkpoint listeners before saving checkpoint 0...\n",
            "INFO:tensorflow:Saving checkpoints for 0 into /tmp/tmpd0bipo_h/model.ckpt.\n",
            "INFO:tensorflow:Calling checkpoint listeners after saving checkpoint 0...\n",
            "INFO:tensorflow:loss = 0.4949276, step = 0\n",
            "INFO:tensorflow:global_step/sec: 366.411\n",
            "INFO:tensorflow:loss = 0.0054061143, step = 100 (0.278 sec)\n",
            "INFO:tensorflow:global_step/sec: 435.278\n",
            "INFO:tensorflow:loss = 0.0016469382, step = 200 (0.229 sec)\n",
            "INFO:tensorflow:global_step/sec: 433.931\n",
            "INFO:tensorflow:loss = 0.003559387, step = 300 (0.226 sec)\n",
            "INFO:tensorflow:global_step/sec: 458.451\n",
            "INFO:tensorflow:loss = 0.004243371, step = 400 (0.220 sec)\n",
            "INFO:tensorflow:global_step/sec: 479.962\n",
            "INFO:tensorflow:loss = 0.020148095, step = 500 (0.212 sec)\n",
            "INFO:tensorflow:global_step/sec: 382.347\n",
            "INFO:tensorflow:loss = 0.0053661983, step = 600 (0.259 sec)\n",
            "INFO:tensorflow:global_step/sec: 465.992\n",
            "INFO:tensorflow:loss = 0.014020951, step = 700 (0.212 sec)\n",
            "INFO:tensorflow:global_step/sec: 500.415\n",
            "INFO:tensorflow:loss = 0.0011527467, step = 800 (0.200 sec)\n",
            "INFO:tensorflow:global_step/sec: 470.917\n",
            "INFO:tensorflow:loss = 0.009281288, step = 900 (0.215 sec)\n",
            "INFO:tensorflow:global_step/sec: 415.471\n",
            "INFO:tensorflow:loss = 0.0028258977, step = 1000 (0.239 sec)\n",
            "INFO:tensorflow:global_step/sec: 374.857\n",
            "INFO:tensorflow:loss = 0.0014315691, step = 1100 (0.270 sec)\n",
            "INFO:tensorflow:global_step/sec: 443.167\n",
            "INFO:tensorflow:loss = 0.0015980478, step = 1200 (0.224 sec)\n",
            "INFO:tensorflow:global_step/sec: 473.486\n",
            "INFO:tensorflow:loss = 0.0033005073, step = 1300 (0.210 sec)\n",
            "INFO:tensorflow:global_step/sec: 407.186\n",
            "INFO:tensorflow:loss = 0.0023122218, step = 1400 (0.246 sec)\n",
            "INFO:tensorflow:global_step/sec: 418.739\n",
            "INFO:tensorflow:loss = 0.002885963, step = 1500 (0.239 sec)\n",
            "INFO:tensorflow:global_step/sec: 428.742\n",
            "INFO:tensorflow:loss = 0.0053222114, step = 1600 (0.233 sec)\n",
            "INFO:tensorflow:global_step/sec: 499.281\n",
            "INFO:tensorflow:loss = 0.0036570863, step = 1700 (0.207 sec)\n",
            "INFO:tensorflow:global_step/sec: 405.155\n",
            "INFO:tensorflow:loss = 0.0037476413, step = 1800 (0.242 sec)\n",
            "INFO:tensorflow:global_step/sec: 424.373\n",
            "INFO:tensorflow:loss = 0.0010207385, step = 1900 (0.233 sec)\n",
            "INFO:tensorflow:global_step/sec: 424.703\n",
            "INFO:tensorflow:loss = 0.0023719745, step = 2000 (0.238 sec)\n",
            "INFO:tensorflow:global_step/sec: 477.71\n",
            "INFO:tensorflow:loss = 0.0014990447, step = 2100 (0.211 sec)\n",
            "INFO:tensorflow:global_step/sec: 478.781\n",
            "INFO:tensorflow:loss = 0.008138801, step = 2200 (0.206 sec)\n",
            "INFO:tensorflow:global_step/sec: 439.168\n",
            "INFO:tensorflow:loss = 0.0040503913, step = 2300 (0.228 sec)\n",
            "INFO:tensorflow:global_step/sec: 404.391\n",
            "INFO:tensorflow:loss = 0.0019272484, step = 2400 (0.248 sec)\n",
            "INFO:tensorflow:global_step/sec: 478.207\n",
            "INFO:tensorflow:loss = 0.0020770833, step = 2500 (0.207 sec)\n",
            "INFO:tensorflow:global_step/sec: 471.165\n",
            "INFO:tensorflow:loss = 0.004955367, step = 2600 (0.216 sec)\n",
            "INFO:tensorflow:global_step/sec: 439.965\n",
            "INFO:tensorflow:loss = 0.0043278476, step = 2700 (0.226 sec)\n",
            "INFO:tensorflow:global_step/sec: 426.987\n",
            "INFO:tensorflow:loss = 0.0010753985, step = 2800 (0.237 sec)\n",
            "INFO:tensorflow:global_step/sec: 424.062\n",
            "INFO:tensorflow:loss = 0.002170926, step = 2900 (0.234 sec)\n",
            "INFO:tensorflow:global_step/sec: 495.91\n",
            "INFO:tensorflow:loss = 0.0012250312, step = 3000 (0.200 sec)\n",
            "INFO:tensorflow:global_step/sec: 484.781\n",
            "INFO:tensorflow:loss = 0.0029670089, step = 3100 (0.205 sec)\n",
            "INFO:tensorflow:global_step/sec: 426.289\n",
            "INFO:tensorflow:loss = 0.0037666063, step = 3200 (0.236 sec)\n",
            "INFO:tensorflow:global_step/sec: 434.825\n",
            "INFO:tensorflow:loss = 0.0014293191, step = 3300 (0.229 sec)\n",
            "INFO:tensorflow:global_step/sec: 451.795\n",
            "INFO:tensorflow:loss = 0.0035009957, step = 3400 (0.225 sec)\n",
            "INFO:tensorflow:global_step/sec: 438.493\n",
            "INFO:tensorflow:loss = 0.0026510195, step = 3500 (0.225 sec)\n",
            "INFO:tensorflow:global_step/sec: 508.54\n",
            "INFO:tensorflow:loss = 0.0044785114, step = 3600 (0.201 sec)\n",
            "INFO:tensorflow:global_step/sec: 443.767\n",
            "INFO:tensorflow:loss = 0.003662462, step = 3700 (0.223 sec)\n",
            "INFO:tensorflow:global_step/sec: 488.055\n",
            "INFO:tensorflow:loss = 0.0046391594, step = 3800 (0.207 sec)\n",
            "INFO:tensorflow:global_step/sec: 431.582\n",
            "INFO:tensorflow:loss = 0.009185904, step = 3900 (0.228 sec)\n",
            "INFO:tensorflow:global_step/sec: 449.068\n",
            "INFO:tensorflow:loss = 0.0016902487, step = 4000 (0.222 sec)\n",
            "INFO:tensorflow:global_step/sec: 395.879\n",
            "INFO:tensorflow:loss = 0.004890576, step = 4100 (0.254 sec)\n",
            "INFO:tensorflow:global_step/sec: 420.624\n",
            "INFO:tensorflow:loss = 0.0018134326, step = 4200 (0.238 sec)\n",
            "INFO:tensorflow:global_step/sec: 444.143\n",
            "INFO:tensorflow:loss = 0.0026892591, step = 4300 (0.224 sec)\n",
            "INFO:tensorflow:global_step/sec: 476.701\n",
            "INFO:tensorflow:loss = 0.0013086895, step = 4400 (0.210 sec)\n",
            "INFO:tensorflow:global_step/sec: 485.219\n",
            "INFO:tensorflow:loss = 0.0010469819, step = 4500 (0.205 sec)\n",
            "INFO:tensorflow:global_step/sec: 496.388\n",
            "INFO:tensorflow:loss = 0.0010315055, step = 4600 (0.203 sec)\n",
            "INFO:tensorflow:global_step/sec: 184.427\n",
            "INFO:tensorflow:loss = 0.004553976, step = 4700 (0.544 sec)\n",
            "INFO:tensorflow:global_step/sec: 216.776\n",
            "INFO:tensorflow:loss = 0.0033373046, step = 4800 (0.462 sec)\n",
            "INFO:tensorflow:global_step/sec: 435.885\n",
            "INFO:tensorflow:loss = 0.0065140626, step = 4900 (0.227 sec)\n",
            "INFO:tensorflow:global_step/sec: 504.559\n",
            "INFO:tensorflow:loss = 0.0043982123, step = 5000 (0.199 sec)\n",
            "INFO:tensorflow:global_step/sec: 485.165\n",
            "INFO:tensorflow:loss = 0.006918731, step = 5100 (0.205 sec)\n",
            "INFO:tensorflow:global_step/sec: 420.874\n",
            "INFO:tensorflow:loss = 0.0077725267, step = 5200 (0.237 sec)\n",
            "INFO:tensorflow:global_step/sec: 502.013\n",
            "INFO:tensorflow:loss = 0.0018239759, step = 5300 (0.200 sec)\n",
            "INFO:tensorflow:global_step/sec: 462.574\n",
            "INFO:tensorflow:loss = 0.0711093, step = 5400 (0.217 sec)\n",
            "INFO:tensorflow:global_step/sec: 466.584\n",
            "INFO:tensorflow:loss = 0.0067377477, step = 5500 (0.214 sec)\n",
            "INFO:tensorflow:global_step/sec: 542.644\n",
            "INFO:tensorflow:loss = 0.003578307, step = 5600 (0.184 sec)\n",
            "INFO:tensorflow:global_step/sec: 525.678\n",
            "INFO:tensorflow:loss = 0.0014930826, step = 5700 (0.190 sec)\n",
            "INFO:tensorflow:global_step/sec: 482.559\n",
            "INFO:tensorflow:loss = 0.0049156426, step = 5800 (0.206 sec)\n",
            "INFO:tensorflow:global_step/sec: 409.617\n",
            "INFO:tensorflow:loss = 0.0033334135, step = 5900 (0.245 sec)\n",
            "INFO:tensorflow:global_step/sec: 500.136\n",
            "INFO:tensorflow:loss = 0.014913952, step = 6000 (0.199 sec)\n",
            "INFO:tensorflow:global_step/sec: 460.238\n",
            "INFO:tensorflow:loss = 0.0013707345, step = 6100 (0.218 sec)\n",
            "INFO:tensorflow:global_step/sec: 467.773\n",
            "INFO:tensorflow:loss = 0.0029451184, step = 6200 (0.216 sec)\n",
            "INFO:tensorflow:global_step/sec: 501.682\n",
            "INFO:tensorflow:loss = 0.00091945863, step = 6300 (0.200 sec)\n",
            "INFO:tensorflow:global_step/sec: 421.257\n",
            "INFO:tensorflow:loss = 0.0036756364, step = 6400 (0.234 sec)\n",
            "INFO:tensorflow:global_step/sec: 509.821\n",
            "INFO:tensorflow:loss = 0.0013976714, step = 6500 (0.196 sec)\n",
            "INFO:tensorflow:global_step/sec: 481.788\n",
            "INFO:tensorflow:loss = 0.003636221, step = 6600 (0.209 sec)\n",
            "INFO:tensorflow:global_step/sec: 476.591\n",
            "INFO:tensorflow:loss = 0.001997813, step = 6700 (0.208 sec)\n",
            "INFO:tensorflow:global_step/sec: 473.946\n",
            "INFO:tensorflow:loss = 0.0035004665, step = 6800 (0.212 sec)\n",
            "INFO:tensorflow:global_step/sec: 447.891\n",
            "INFO:tensorflow:loss = 0.0021343539, step = 6900 (0.225 sec)\n",
            "INFO:tensorflow:global_step/sec: 491.632\n",
            "INFO:tensorflow:loss = 0.0029992468, step = 7000 (0.203 sec)\n",
            "INFO:tensorflow:global_step/sec: 512.588\n",
            "INFO:tensorflow:loss = 0.003402749, step = 7100 (0.195 sec)\n",
            "INFO:tensorflow:global_step/sec: 465.709\n",
            "INFO:tensorflow:loss = 0.008633947, step = 7200 (0.215 sec)\n",
            "INFO:tensorflow:global_step/sec: 502.516\n",
            "INFO:tensorflow:loss = 0.0016372591, step = 7300 (0.199 sec)\n",
            "INFO:tensorflow:global_step/sec: 507.357\n",
            "INFO:tensorflow:loss = 0.0054561687, step = 7400 (0.196 sec)\n",
            "INFO:tensorflow:global_step/sec: 530.143\n",
            "INFO:tensorflow:loss = 0.0078205, step = 7500 (0.189 sec)\n",
            "INFO:tensorflow:global_step/sec: 459.262\n",
            "INFO:tensorflow:loss = 0.0014884048, step = 7600 (0.218 sec)\n",
            "INFO:tensorflow:global_step/sec: 475.735\n",
            "INFO:tensorflow:loss = 0.001009444, step = 7700 (0.210 sec)\n",
            "INFO:tensorflow:global_step/sec: 549.012\n",
            "INFO:tensorflow:loss = 0.003395437, step = 7800 (0.184 sec)\n",
            "INFO:tensorflow:global_step/sec: 441.755\n",
            "INFO:tensorflow:loss = 0.00155333, step = 7900 (0.226 sec)\n",
            "INFO:tensorflow:global_step/sec: 485.673\n",
            "INFO:tensorflow:loss = 0.0061900094, step = 8000 (0.206 sec)\n",
            "INFO:tensorflow:global_step/sec: 465.662\n",
            "INFO:tensorflow:loss = 0.0049358765, step = 8100 (0.215 sec)\n",
            "INFO:tensorflow:global_step/sec: 482.447\n",
            "INFO:tensorflow:loss = 0.010755597, step = 8200 (0.207 sec)\n",
            "INFO:tensorflow:global_step/sec: 491.305\n",
            "INFO:tensorflow:loss = 0.0020033852, step = 8300 (0.202 sec)\n",
            "INFO:tensorflow:global_step/sec: 449.317\n",
            "INFO:tensorflow:loss = 0.0017143426, step = 8400 (0.222 sec)\n",
            "INFO:tensorflow:global_step/sec: 479.31\n",
            "INFO:tensorflow:loss = 0.0028201956, step = 8500 (0.208 sec)\n",
            "INFO:tensorflow:global_step/sec: 436.269\n",
            "INFO:tensorflow:loss = 0.0058513177, step = 8600 (0.230 sec)\n",
            "INFO:tensorflow:global_step/sec: 480.72\n",
            "INFO:tensorflow:loss = 0.0017518883, step = 8700 (0.207 sec)\n",
            "INFO:tensorflow:global_step/sec: 402.208\n",
            "INFO:tensorflow:loss = 0.0024597002, step = 8800 (0.250 sec)\n",
            "INFO:tensorflow:global_step/sec: 482.527\n",
            "INFO:tensorflow:loss = 0.0041023446, step = 8900 (0.207 sec)\n",
            "INFO:tensorflow:global_step/sec: 511.446\n",
            "INFO:tensorflow:loss = 0.0015732639, step = 9000 (0.196 sec)\n",
            "INFO:tensorflow:global_step/sec: 510.092\n",
            "INFO:tensorflow:loss = 0.0024311624, step = 9100 (0.196 sec)\n",
            "INFO:tensorflow:global_step/sec: 448.677\n",
            "INFO:tensorflow:loss = 0.009128953, step = 9200 (0.222 sec)\n",
            "INFO:tensorflow:global_step/sec: 440.88\n",
            "INFO:tensorflow:loss = 0.004295147, step = 9300 (0.227 sec)\n",
            "INFO:tensorflow:global_step/sec: 517.034\n",
            "INFO:tensorflow:loss = 0.00067911553, step = 9400 (0.192 sec)\n",
            "INFO:tensorflow:global_step/sec: 497.061\n",
            "INFO:tensorflow:loss = 0.0052027316, step = 9500 (0.203 sec)\n",
            "INFO:tensorflow:global_step/sec: 464.98\n",
            "INFO:tensorflow:loss = 0.003842552, step = 9600 (0.215 sec)\n",
            "INFO:tensorflow:global_step/sec: 473.935\n",
            "INFO:tensorflow:loss = 0.0021639871, step = 9700 (0.210 sec)\n",
            "INFO:tensorflow:global_step/sec: 458.346\n",
            "INFO:tensorflow:loss = 0.0014109317, step = 9800 (0.217 sec)\n",
            "INFO:tensorflow:global_step/sec: 493.663\n",
            "INFO:tensorflow:loss = 0.0049413866, step = 9900 (0.205 sec)\n",
            "INFO:tensorflow:global_step/sec: 449.173\n",
            "INFO:tensorflow:loss = 0.0032148727, step = 10000 (0.220 sec)\n",
            "INFO:tensorflow:global_step/sec: 458.701\n",
            "INFO:tensorflow:loss = 0.002651651, step = 10100 (0.221 sec)\n",
            "INFO:tensorflow:global_step/sec: 469.494\n",
            "INFO:tensorflow:loss = 0.0062158336, step = 10200 (0.211 sec)\n",
            "INFO:tensorflow:global_step/sec: 443.27\n",
            "INFO:tensorflow:loss = 0.0030449708, step = 10300 (0.226 sec)\n",
            "INFO:tensorflow:global_step/sec: 464.182\n",
            "INFO:tensorflow:loss = 0.0055809543, step = 10400 (0.216 sec)\n",
            "INFO:tensorflow:global_step/sec: 492.322\n",
            "INFO:tensorflow:loss = 0.011228463, step = 10500 (0.209 sec)\n",
            "INFO:tensorflow:global_step/sec: 494.217\n",
            "INFO:tensorflow:loss = 0.0021887803, step = 10600 (0.197 sec)\n",
            "INFO:tensorflow:global_step/sec: 437.064\n",
            "INFO:tensorflow:loss = 0.00326475, step = 10700 (0.229 sec)\n",
            "INFO:tensorflow:global_step/sec: 462.321\n",
            "INFO:tensorflow:loss = 0.00900295, step = 10800 (0.214 sec)\n",
            "INFO:tensorflow:global_step/sec: 455.066\n",
            "INFO:tensorflow:loss = 0.0026186027, step = 10900 (0.223 sec)\n",
            "INFO:tensorflow:global_step/sec: 408.561\n",
            "INFO:tensorflow:loss = 0.008011168, step = 11000 (0.245 sec)\n",
            "INFO:tensorflow:global_step/sec: 470.885\n",
            "INFO:tensorflow:loss = 0.004350708, step = 11100 (0.211 sec)\n",
            "INFO:tensorflow:global_step/sec: 467.09\n",
            "INFO:tensorflow:loss = 0.0029220607, step = 11200 (0.213 sec)\n",
            "INFO:tensorflow:global_step/sec: 456.748\n",
            "INFO:tensorflow:loss = 0.0026528742, step = 11300 (0.220 sec)\n",
            "INFO:tensorflow:global_step/sec: 468.819\n",
            "INFO:tensorflow:loss = 0.0027341233, step = 11400 (0.212 sec)\n",
            "INFO:tensorflow:global_step/sec: 451.689\n",
            "INFO:tensorflow:loss = 0.0029515275, step = 11500 (0.225 sec)\n",
            "INFO:tensorflow:global_step/sec: 449.066\n",
            "INFO:tensorflow:loss = 0.003126591, step = 11600 (0.221 sec)\n",
            "INFO:tensorflow:global_step/sec: 491.54\n",
            "INFO:tensorflow:loss = 0.0012933244, step = 11700 (0.202 sec)\n",
            "INFO:tensorflow:global_step/sec: 417.786\n",
            "INFO:tensorflow:loss = 0.0017947843, step = 11800 (0.243 sec)\n",
            "INFO:tensorflow:global_step/sec: 443.335\n",
            "INFO:tensorflow:loss = 0.0051722303, step = 11900 (0.223 sec)\n",
            "INFO:tensorflow:global_step/sec: 428.176\n",
            "INFO:tensorflow:loss = 0.0024348232, step = 12000 (0.232 sec)\n",
            "INFO:tensorflow:global_step/sec: 430.241\n",
            "INFO:tensorflow:loss = 0.0022399365, step = 12100 (0.233 sec)\n",
            "INFO:tensorflow:global_step/sec: 471.873\n",
            "INFO:tensorflow:loss = 0.0014746999, step = 12200 (0.212 sec)\n",
            "INFO:tensorflow:global_step/sec: 473.832\n",
            "INFO:tensorflow:loss = 0.004544355, step = 12300 (0.210 sec)\n",
            "INFO:tensorflow:global_step/sec: 488.274\n",
            "INFO:tensorflow:loss = 0.0054608947, step = 12400 (0.208 sec)\n",
            "INFO:tensorflow:global_step/sec: 456.948\n",
            "INFO:tensorflow:loss = 0.0015075464, step = 12500 (0.219 sec)\n",
            "INFO:tensorflow:global_step/sec: 463.943\n",
            "INFO:tensorflow:loss = 0.0038010334, step = 12600 (0.217 sec)\n",
            "INFO:tensorflow:global_step/sec: 449.595\n",
            "INFO:tensorflow:loss = 0.002120784, step = 12700 (0.221 sec)\n",
            "INFO:tensorflow:global_step/sec: 382.684\n",
            "INFO:tensorflow:loss = 0.0015924412, step = 12800 (0.260 sec)\n",
            "INFO:tensorflow:global_step/sec: 439.704\n",
            "INFO:tensorflow:loss = 0.0042933905, step = 12900 (0.228 sec)\n",
            "INFO:tensorflow:global_step/sec: 490.902\n",
            "INFO:tensorflow:loss = 0.0010308026, step = 13000 (0.203 sec)\n",
            "INFO:tensorflow:global_step/sec: 502.179\n",
            "INFO:tensorflow:loss = 0.0020956523, step = 13100 (0.198 sec)\n",
            "INFO:tensorflow:global_step/sec: 443.633\n",
            "INFO:tensorflow:loss = 0.005901774, step = 13200 (0.226 sec)\n",
            "INFO:tensorflow:global_step/sec: 471.773\n",
            "INFO:tensorflow:loss = 0.0087890765, step = 13300 (0.212 sec)\n",
            "INFO:tensorflow:global_step/sec: 459.604\n",
            "INFO:tensorflow:loss = 0.0053848946, step = 13400 (0.219 sec)\n",
            "INFO:tensorflow:global_step/sec: 448.515\n",
            "INFO:tensorflow:loss = 0.0021882162, step = 13500 (0.220 sec)\n",
            "INFO:tensorflow:global_step/sec: 477.62\n",
            "INFO:tensorflow:loss = 0.010686336, step = 13600 (0.213 sec)\n",
            "INFO:tensorflow:global_step/sec: 514.107\n",
            "INFO:tensorflow:loss = 0.0058328304, step = 13700 (0.191 sec)\n",
            "INFO:tensorflow:global_step/sec: 485.582\n",
            "INFO:tensorflow:loss = 0.0062338, step = 13800 (0.207 sec)\n",
            "INFO:tensorflow:global_step/sec: 556.945\n",
            "INFO:tensorflow:loss = 0.0052856086, step = 13900 (0.181 sec)\n",
            "INFO:tensorflow:global_step/sec: 513.431\n",
            "INFO:tensorflow:loss = 0.0041626496, step = 14000 (0.196 sec)\n",
            "INFO:tensorflow:global_step/sec: 445.497\n",
            "INFO:tensorflow:loss = 0.011958549, step = 14100 (0.224 sec)\n",
            "INFO:tensorflow:global_step/sec: 480.425\n",
            "INFO:tensorflow:loss = 0.0013399983, step = 14200 (0.206 sec)\n",
            "INFO:tensorflow:global_step/sec: 435.764\n",
            "INFO:tensorflow:loss = 0.0038487506, step = 14300 (0.230 sec)\n",
            "INFO:tensorflow:global_step/sec: 490.04\n",
            "INFO:tensorflow:loss = 0.0046444647, step = 14400 (0.205 sec)\n",
            "INFO:tensorflow:global_step/sec: 454.875\n",
            "INFO:tensorflow:loss = 0.002792426, step = 14500 (0.218 sec)\n",
            "INFO:tensorflow:global_step/sec: 455.288\n",
            "INFO:tensorflow:loss = 0.0010682687, step = 14600 (0.221 sec)\n",
            "INFO:tensorflow:global_step/sec: 406.673\n",
            "INFO:tensorflow:loss = 0.0031620897, step = 14700 (0.247 sec)\n",
            "INFO:tensorflow:global_step/sec: 444.5\n",
            "INFO:tensorflow:loss = 0.0016957236, step = 14800 (0.223 sec)\n",
            "INFO:tensorflow:global_step/sec: 521.263\n",
            "INFO:tensorflow:loss = 0.002078946, step = 14900 (0.196 sec)\n",
            "INFO:tensorflow:global_step/sec: 414.975\n",
            "INFO:tensorflow:loss = 0.00816253, step = 15000 (0.237 sec)\n",
            "INFO:tensorflow:global_step/sec: 481.142\n",
            "INFO:tensorflow:loss = 0.0042147553, step = 15100 (0.207 sec)\n",
            "INFO:tensorflow:global_step/sec: 453.176\n",
            "INFO:tensorflow:loss = 0.00059385726, step = 15200 (0.224 sec)\n",
            "INFO:tensorflow:global_step/sec: 478.017\n",
            "INFO:tensorflow:loss = 0.0035381385, step = 15300 (0.207 sec)\n",
            "INFO:tensorflow:global_step/sec: 471.817\n",
            "INFO:tensorflow:loss = 0.0019933002, step = 15400 (0.211 sec)\n",
            "INFO:tensorflow:global_step/sec: 479.784\n",
            "INFO:tensorflow:loss = 0.0014408597, step = 15500 (0.209 sec)\n",
            "INFO:tensorflow:global_step/sec: 439.314\n",
            "INFO:tensorflow:loss = 0.00068090064, step = 15600 (0.226 sec)\n",
            "INFO:tensorflow:global_step/sec: 464.121\n",
            "INFO:tensorflow:loss = 0.0036240623, step = 15700 (0.217 sec)\n",
            "INFO:tensorflow:global_step/sec: 511.662\n",
            "INFO:tensorflow:loss = 0.004807769, step = 15800 (0.197 sec)\n",
            "INFO:tensorflow:global_step/sec: 432.196\n",
            "INFO:tensorflow:loss = 0.0037734888, step = 15900 (0.231 sec)\n",
            "INFO:tensorflow:global_step/sec: 430.438\n",
            "INFO:tensorflow:loss = 0.005733838, step = 16000 (0.231 sec)\n",
            "INFO:tensorflow:global_step/sec: 413.032\n",
            "INFO:tensorflow:loss = 0.0030998555, step = 16100 (0.241 sec)\n",
            "INFO:tensorflow:global_step/sec: 435.593\n",
            "INFO:tensorflow:loss = 0.0027379417, step = 16200 (0.230 sec)\n",
            "INFO:tensorflow:global_step/sec: 488.205\n",
            "INFO:tensorflow:loss = 0.004527916, step = 16300 (0.206 sec)\n",
            "INFO:tensorflow:global_step/sec: 456.265\n",
            "INFO:tensorflow:loss = 0.0064980327, step = 16400 (0.217 sec)\n",
            "INFO:tensorflow:global_step/sec: 414.278\n",
            "INFO:tensorflow:loss = 0.0041140052, step = 16500 (0.242 sec)\n",
            "INFO:tensorflow:global_step/sec: 506.565\n",
            "INFO:tensorflow:loss = 0.007179116, step = 16600 (0.197 sec)\n",
            "INFO:tensorflow:global_step/sec: 467.05\n",
            "INFO:tensorflow:loss = 0.0032101958, step = 16700 (0.216 sec)\n",
            "INFO:tensorflow:global_step/sec: 478.235\n",
            "INFO:tensorflow:loss = 0.006016371, step = 16800 (0.207 sec)\n",
            "INFO:tensorflow:global_step/sec: 436.505\n",
            "INFO:tensorflow:loss = 0.004579063, step = 16900 (0.231 sec)\n",
            "INFO:tensorflow:global_step/sec: 474.186\n",
            "INFO:tensorflow:loss = 0.0047523817, step = 17000 (0.211 sec)\n",
            "INFO:tensorflow:global_step/sec: 445.303\n",
            "INFO:tensorflow:loss = 0.0039590346, step = 17100 (0.223 sec)\n",
            "INFO:tensorflow:global_step/sec: 440.166\n",
            "INFO:tensorflow:loss = 0.0032016307, step = 17200 (0.227 sec)\n",
            "INFO:tensorflow:global_step/sec: 462.281\n",
            "INFO:tensorflow:loss = 0.0023980392, step = 17300 (0.216 sec)\n",
            "INFO:tensorflow:global_step/sec: 431.543\n",
            "INFO:tensorflow:loss = 0.0019158572, step = 17400 (0.233 sec)\n",
            "INFO:tensorflow:global_step/sec: 447.769\n",
            "INFO:tensorflow:loss = 0.00081956165, step = 17500 (0.226 sec)\n",
            "INFO:tensorflow:global_step/sec: 454.979\n",
            "INFO:tensorflow:loss = 0.0028391578, step = 17600 (0.216 sec)\n",
            "INFO:tensorflow:global_step/sec: 495.745\n",
            "INFO:tensorflow:loss = 0.002479826, step = 17700 (0.202 sec)\n",
            "INFO:tensorflow:global_step/sec: 410.287\n",
            "INFO:tensorflow:loss = 0.0025800946, step = 17800 (0.244 sec)\n",
            "INFO:tensorflow:global_step/sec: 461.374\n",
            "INFO:tensorflow:loss = 0.0028902334, step = 17900 (0.217 sec)\n",
            "INFO:tensorflow:global_step/sec: 445.088\n",
            "INFO:tensorflow:loss = 0.0052028024, step = 18000 (0.226 sec)\n",
            "INFO:tensorflow:global_step/sec: 444.581\n",
            "INFO:tensorflow:loss = 0.0034473818, step = 18100 (0.224 sec)\n",
            "INFO:tensorflow:global_step/sec: 424.766\n",
            "INFO:tensorflow:loss = 0.0013046117, step = 18200 (0.236 sec)\n",
            "INFO:tensorflow:global_step/sec: 394.316\n",
            "INFO:tensorflow:loss = 0.0024771087, step = 18300 (0.253 sec)\n",
            "INFO:tensorflow:global_step/sec: 437.639\n",
            "INFO:tensorflow:loss = 0.0017837819, step = 18400 (0.227 sec)\n",
            "INFO:tensorflow:global_step/sec: 434.013\n",
            "INFO:tensorflow:loss = 0.0036226325, step = 18500 (0.230 sec)\n",
            "INFO:tensorflow:global_step/sec: 415.006\n",
            "INFO:tensorflow:loss = 0.0014699346, step = 18600 (0.243 sec)\n",
            "INFO:tensorflow:global_step/sec: 397.598\n",
            "INFO:tensorflow:loss = 0.0017261654, step = 18700 (0.249 sec)\n",
            "INFO:tensorflow:global_step/sec: 357.08\n",
            "INFO:tensorflow:loss = 0.0036443148, step = 18800 (0.285 sec)\n",
            "INFO:tensorflow:global_step/sec: 405.479\n",
            "INFO:tensorflow:loss = 0.004346363, step = 18900 (0.244 sec)\n",
            "INFO:tensorflow:global_step/sec: 489.638\n",
            "INFO:tensorflow:loss = 0.0033808039, step = 19000 (0.204 sec)\n",
            "WARNING:tensorflow:It seems that global step (tf.train.get_global_step) has not been increased. Current value (could be stable): 19098 vs previous value: 19098. You could increase the global step by passing tf.train.get_global_step() to Optimizer.apply_gradients or Optimizer.minimize.\n",
            "INFO:tensorflow:global_step/sec: 423.325\n",
            "INFO:tensorflow:loss = 0.007903005, step = 19100 (0.238 sec)\n",
            "INFO:tensorflow:global_step/sec: 425.879\n",
            "INFO:tensorflow:loss = 0.0020993182, step = 19200 (0.233 sec)\n",
            "INFO:tensorflow:global_step/sec: 478.768\n",
            "INFO:tensorflow:loss = 0.0059582805, step = 19300 (0.208 sec)\n",
            "INFO:tensorflow:global_step/sec: 409.667\n",
            "INFO:tensorflow:loss = 0.0015601745, step = 19400 (0.246 sec)\n",
            "INFO:tensorflow:global_step/sec: 522.541\n",
            "INFO:tensorflow:loss = 0.002360362, step = 19500 (0.188 sec)\n",
            "INFO:tensorflow:global_step/sec: 411.467\n",
            "INFO:tensorflow:loss = 0.005262619, step = 19600 (0.244 sec)\n",
            "INFO:tensorflow:global_step/sec: 488.695\n",
            "INFO:tensorflow:loss = 0.0045620687, step = 19700 (0.205 sec)\n",
            "INFO:tensorflow:global_step/sec: 482.133\n",
            "INFO:tensorflow:loss = 0.004193487, step = 19800 (0.208 sec)\n",
            "INFO:tensorflow:global_step/sec: 451.449\n",
            "INFO:tensorflow:loss = 0.0009965388, step = 19900 (0.220 sec)\n",
            "INFO:tensorflow:Calling checkpoint listeners before saving checkpoint 20000...\n",
            "INFO:tensorflow:Saving checkpoints for 20000 into /tmp/tmpd0bipo_h/model.ckpt.\n",
            "INFO:tensorflow:Calling checkpoint listeners after saving checkpoint 20000...\n",
            "INFO:tensorflow:Loss for final step: 0.0023317821.\n"
          ],
          "name": "stdout"
        },
        {
          "output_type": "execute_result",
          "data": {
            "text/plain": [
              "<tensorflow_estimator.python.estimator.canned.dnn.DNNRegressorV2 at 0x7f030984e518>"
            ]
          },
          "metadata": {
            "tags": []
          },
          "execution_count": 44
        }
      ]
    },
    {
      "cell_type": "code",
      "metadata": {
        "id": "lAAeBHG9s1ki",
        "outputId": "157b5f23-72c5-44c2-f371-03e3a299105a",
        "colab": {
          "base_uri": "https://localhost:8080/",
          "height": 819
        }
      },
      "source": [
        "result_eval = estimator.evaluate(input_fn=eval_input_func)\n",
        "predictions=[]\n",
        "for pred in estimator.predict(input_fn=test_input_func):\n",
        "    predictions.append(np.array(pred['predictions']).astype(float))\n",
        "plt.plot(y_test_d, predictions, 'r*')\n",
        "plt.xlabel('Actual values')\n",
        "plt.ylabel('predicted values')"
      ],
      "execution_count": 47,
      "outputs": [
        {
          "output_type": "stream",
          "text": [
            "INFO:tensorflow:Calling model_fn.\n",
            "WARNING:tensorflow:Layer dnn is casting an input tensor from dtype float64 to the layer's dtype of float32, which is new behavior in TensorFlow 2.  The layer has dtype float32 because its dtype defaults to floatx.\n",
            "\n",
            "If you intended to run this layer in float32, you can safely ignore this warning. If in doubt, this warning is likely only an issue if you are porting a TensorFlow 1.X model to TensorFlow 2.\n",
            "\n",
            "To change all layers to have dtype float64 by default, call `tf.keras.backend.set_floatx('float64')`. To change just this layer, pass dtype='float64' to the layer constructor. If you are the author of this layer, you can disable autocasting by passing autocast=False to the base Layer constructor.\n",
            "\n",
            "INFO:tensorflow:Done calling model_fn.\n",
            "INFO:tensorflow:Starting evaluation at 2020-10-13T02:32:51Z\n",
            "INFO:tensorflow:Graph was finalized.\n",
            "INFO:tensorflow:Restoring parameters from /tmp/tmpd0bipo_h/model.ckpt-20000\n",
            "INFO:tensorflow:Running local_init_op.\n",
            "INFO:tensorflow:Done running local_init_op.\n",
            "INFO:tensorflow:Inference Time : 60.02680s\n",
            "INFO:tensorflow:Finished evaluation at 2020-10-13-02:33:51\n",
            "INFO:tensorflow:Saving dict for global step 20000: average_loss = 0.004527938, global_step = 20000, label/mean = 0.04983493, loss = 0.0045279674, prediction/mean = 0.044310432\n",
            "INFO:tensorflow:Saving 'checkpoint_path' summary for global step 20000: /tmp/tmpd0bipo_h/model.ckpt-20000\n",
            "INFO:tensorflow:Calling model_fn.\n",
            "WARNING:tensorflow:Layer dnn is casting an input tensor from dtype float64 to the layer's dtype of float32, which is new behavior in TensorFlow 2.  The layer has dtype float32 because its dtype defaults to floatx.\n",
            "\n",
            "If you intended to run this layer in float32, you can safely ignore this warning. If in doubt, this warning is likely only an issue if you are porting a TensorFlow 1.X model to TensorFlow 2.\n",
            "\n",
            "To change all layers to have dtype float64 by default, call `tf.keras.backend.set_floatx('float64')`. To change just this layer, pass dtype='float64' to the layer constructor. If you are the author of this layer, you can disable autocasting by passing autocast=False to the base Layer constructor.\n",
            "\n",
            "INFO:tensorflow:Done calling model_fn.\n",
            "INFO:tensorflow:Graph was finalized.\n",
            "INFO:tensorflow:Restoring parameters from /tmp/tmpd0bipo_h/model.ckpt-20000\n",
            "INFO:tensorflow:Running local_init_op.\n",
            "INFO:tensorflow:Done running local_init_op.\n"
          ],
          "name": "stdout"
        },
        {
          "output_type": "execute_result",
          "data": {
            "text/plain": [
              "Text(0, 0.5, 'predicted values')"
            ]
          },
          "metadata": {
            "tags": []
          },
          "execution_count": 47
        },
        {
          "output_type": "display_data",
          "data": {
            "image/png": "[encoded data removed]",
            "text/plain": [
              "<Figure size 432x288 with 1 Axes>"
            ]
          },
          "metadata": {
            "tags": [],
            "needs_background": "light"
          }
        }
      ]
    }
  ]
}