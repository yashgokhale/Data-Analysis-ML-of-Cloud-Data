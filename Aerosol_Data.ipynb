{
 "cells": [
  {
   "cell_type": "code",
   "execution_count": 158,
   "metadata": {},
   "outputs": [],
   "source": [
    "from scipy.io import netcdf\n",
    "import numpy as np\n",
    "import matplotlib.pyplot as plt\n",
    "from netCDF4 import Dataset\n",
    "import pandas as pd\n",
    "import matplotlib.pyplot as plt\n",
    "\n",
    "import matplotlib.style\n",
    "\n",
    "import matplotlib\n",
    "\n",
    "matplotlib.style.use('classic')\n",
    "\n",
    "data_aer='C:/Users/yashg/OneDrive/Desktop/CMU/Project/December/sgp1sbd449precipDSDC1.c1.20110520.060000.nc'\n",
    "data_1='C:/Users/yashg/OneDrive/Desktop/CMU/Project/December/20110520_0623_grid_combined.cdf'"
   ]
  },
  {
   "cell_type": "code",
   "execution_count": 159,
   "metadata": {},
   "outputs": [
    {
     "data": {
      "text/plain": [
       "<class 'netCDF4._netCDF4.Dataset'>\n",
       "root group (NETCDF3_CLASSIC data model, file format NETCDF3):\n",
       "    title: CSU Multi radar analysis for MC3E\n",
       "    File_Generator: Radarmet Group, Colorado State University\n",
       "    Version: v.1.0 Written July 2014\n",
       "    Date: 20110520\n",
       "    Time: 062300\n",
       "    Julian_Time: 2455701.7659722227\n",
       "    Radar: Multi\n",
       "    Grid_center_lat: 36.605\n",
       "    Grid_center_lon: -97.485\n",
       "    dimensions(sizes): x(121), y(121), z(18)\n",
       "    variables(dimensions): float32 DZ(z,y,x), float32 U(z,y,x), float32 V(z,y,x), float32 Con(z,y,x), float32 Vor(z,y,x), float32 Wvar(z,y,x), float32 VT(z,y,x), int16 HID(z,y,x), float32 CS(z,y,x), float32 x(x), float32 y(y), float32 z(z)\n",
       "    groups: "
      ]
     },
     "execution_count": 159,
     "metadata": {},
     "output_type": "execute_result"
    }
   ],
   "source": [
    "r=Dataset(data_1,'r')\n",
    "r"
   ]
  },
  {
   "cell_type": "code",
   "execution_count": 160,
   "metadata": {},
   "outputs": [],
   "source": [
    "i1=np.argwhere(r.variables['x'][:]==0)\n",
    "i2=np.argwhere(r.variables['y'][:]==0)"
   ]
  },
  {
   "cell_type": "code",
   "execution_count": 161,
   "metadata": {},
   "outputs": [
    {
     "data": {
      "text/plain": [
       "(array([[60]], dtype=int64), array([[60]], dtype=int64))"
      ]
     },
     "execution_count": 161,
     "metadata": {},
     "output_type": "execute_result"
    }
   ],
   "source": [
    "i1,i2"
   ]
  },
  {
   "cell_type": "code",
   "execution_count": 162,
   "metadata": {},
   "outputs": [],
   "source": [
    "dz_f=np.ma.filled(r.variables['DZ'][:,i1[0],i2[0]])\n",
    "z=np.ma.filled(r.variables['z'])"
   ]
  },
  {
   "cell_type": "code",
   "execution_count": 163,
   "metadata": {},
   "outputs": [
    {
     "data": {
      "text/plain": [
       "array([[ 1.0000000e+00,  2.0000000e+00,  3.0000000e+00,  4.0000000e+00,\n",
       "         5.0000000e+00,  6.0000000e+00,  7.0000000e+00,  8.0000000e+00,\n",
       "         9.0000000e+00,  1.0000000e+01,  1.1000000e+01,  1.2000000e+01,\n",
       "         1.3000000e+01,  1.4000000e+01,  1.5000000e+01,  1.6000000e+01,\n",
       "         1.7000000e+01,  1.8000000e+01],\n",
       "       [ 2.6015625e+01,  2.9734375e+01,  3.1453125e+01,  3.4515625e+01,\n",
       "         3.2234375e+01,  3.1453125e+01,  2.8562500e+01,  2.5140625e+01,\n",
       "         2.1734375e+01,  1.9765625e+01,  9.8281250e+00,  4.7031250e+00,\n",
       "        -9.9999000e+04, -9.9999000e+04, -9.9999000e+04, -9.9999000e+04,\n",
       "        -9.9999000e+04, -9.9999000e+04]], dtype=float32)"
      ]
     },
     "execution_count": 163,
     "metadata": {},
     "output_type": "execute_result"
    }
   ],
   "source": [
    "req=np.array([z,dz_f[:,0,0]])\n",
    "req"
   ]
  },
  {
   "cell_type": "code",
   "execution_count": 164,
   "metadata": {},
   "outputs": [
    {
     "data": {
      "text/plain": [
       "array([[ 1.      ,  2.      ,  3.      ,  4.      ,  5.      ,  6.      ,\n",
       "         7.      ,  8.      ,  9.      , 10.      , 11.      , 12.      ],\n",
       "       [26.015625, 29.734375, 31.453125, 34.515625, 32.234375, 31.453125,\n",
       "        28.5625  , 25.140625, 21.734375, 19.765625,  9.828125,  4.703125]],\n",
       "      dtype=float32)"
      ]
     },
     "execution_count": 164,
     "metadata": {},
     "output_type": "execute_result"
    }
   ],
   "source": [
    "req=req[:,:-6]\n",
    "req"
   ]
  },
  {
   "cell_type": "code",
   "execution_count": 165,
   "metadata": {},
   "outputs": [
    {
     "data": {
      "text/plain": [
       "<class 'netCDF4._netCDF4.Dataset'>\n",
       "root group (NETCDF3_CLASSIC data model, file format NETCDF3):\n",
       "    dimensions(sizes): time(660), sbd449_range(61), precip_range(250), single_value(1)\n",
       "    variables(dimensions): float32 bad_flag(single_value), float32 site_altitude(single_value), float32 site_latitude_deg(single_value), float32 site_latitude_min(single_value), float32 site_latitude_sec(single_value), float32 site_longitude_deg(single_value), float32 site_longitude_min(single_value), float32 site_longitude_sec(single_value), float32 sbd449_range(sbd449_range), float32 sbd_precip_range(precip_range), float32 sbd449_time_year(time), float32 sbd449_time_dayofyear(time), float32 sbd449_time_month(time), float32 sbd449_time_dayofmonth(time), float32 sbd449_time_hour(time), float32 sbd449_time_minute(time), float32 sbd449_time_second(time), float32 sbd449_Dm_mu_Dm(time,sbd449_range), float32 sbd449_Dm_mu_Dmin(time,sbd449_range), float32 sbd449_Dm_mu_Dmax(time,sbd449_range), float32 sbd449_Dm_mu_Nw(time,sbd449_range), float32 sbd449_Dm_mu_R(time,sbd449_range), float32 sbd449_Dm_mu_W(time,sbd449_range), float32 sbd449_Dm_mu_Z(time,sbd449_range), float32 sbd449_Dm_mu_mu(time,sbd449_range), float32 sbd449_Dm_mu_omega(time,sbd449_range), float32 sbd449_Dm_mu_sigma(time,sbd449_range), float32 sbd449_gamma_Dm(time,sbd449_range), float32 sbd449_gamma_Dmin(time,sbd449_range), float32 sbd449_gamma_Dmax(time,sbd449_range), float32 sbd449_gamma_Nw(time,sbd449_range), float32 sbd449_gamma_R(time,sbd449_range), float32 sbd449_gamma_W(time,sbd449_range), float32 sbd449_gamma_Z(time,sbd449_range), float32 sbd449_gamma_mu(time,sbd449_range), float32 sbd449_gamma_omega(time,sbd449_range), float32 sbd449_gamma_sigma(time,sbd449_range), float32 sbd_precip_snr(time,precip_range), float32 sbd_precip_vel(time,precip_range), float32 sbd_precip_wid(time,precip_range), float32 sbd_precip_zdb(time,precip_range)\n",
       "    groups: "
      ]
     },
     "execution_count": 165,
     "metadata": {},
     "output_type": "execute_result"
    }
   ],
   "source": [
    "r2=Dataset(data_aer,'r')\n",
    "r2"
   ]
  },
  {
   "cell_type": "code",
   "execution_count": 166,
   "metadata": {},
   "outputs": [],
   "source": [
    "h=np.ma.filled(r2.variables['sbd449_range'][:])\n",
    "z=np.ma.filled(r2.variables['sbd449_Dm_mu_Z'][:])"
   ]
  },
  {
   "cell_type": "code",
   "execution_count": 179,
   "metadata": {},
   "outputs": [
    {
     "data": {
      "text/plain": [
       "masked_array(data=[20., 20., 20., 20., 20., 20., 20., 20., 20., 20., 20.,\n",
       "                   20., 20., 20., 20., 20., 20., 20., 20., 20., 20., 20.,\n",
       "                   20., 20., 20., 20., 20., 20., 20., 20., 20., 20., 20.,\n",
       "                   20., 20., 20., 20., 20., 20., 20., 20., 20., 20., 20.,\n",
       "                   20., 20., 20., 20., 20., 20., 20., 20., 20., 20., 20.,\n",
       "                   20., 20., 20., 20., 20., 20., 20., 20., 20., 20., 20.,\n",
       "                   20., 20., 20., 20., 20., 20., 20., 20., 20., 20., 20.,\n",
       "                   20., 20., 20., 20., 20., 20., 20., 20., 20., 20., 20.,\n",
       "                   20., 20., 20., 20., 20., 20., 20., 20., 20., 20., 20.,\n",
       "                   20., 20., 20., 20., 20., 20., 20., 20., 20., 20., 20.,\n",
       "                   20., 20., 20., 20., 20., 20., 20., 20., 20., 20., 20.,\n",
       "                   20., 20., 20., 20., 20., 20., 20., 20., 20., 20., 20.,\n",
       "                   20., 20., 20., 20., 20., 20., 20., 20., 20., 20., 20.,\n",
       "                   20., 20., 20., 20., 20., 20., 20., 20., 20., 20., 20.,\n",
       "                   20., 20., 20., 20., 20., 20., 20., 20., 20., 20., 20.,\n",
       "                   20., 20., 20., 20., 20., 20., 20., 20., 20., 20., 20.,\n",
       "                   20., 20., 20., 20., 20., 20., 20., 20., 20., 20., 20.,\n",
       "                   20., 20., 20., 20., 20., 20., 20., 20., 20., 20., 20.,\n",
       "                   20., 20., 20., 20., 20., 20., 20., 20., 20., 20., 20.,\n",
       "                   20., 20., 20., 20., 20., 20., 20., 20., 20., 20., 20.,\n",
       "                   20., 20., 20., 20., 20., 20., 20., 20., 20., 20., 20.,\n",
       "                   20., 20., 20., 20., 20., 20., 20., 20., 20., 20., 20.,\n",
       "                   20., 20., 20., 20., 20., 20., 20., 20., 20., 20., 20.,\n",
       "                   20., 20., 20., 20., 20., 20., 20., 20., 20., 20., 20.,\n",
       "                   20., 20., 20., 20., 20., 20., 20., 20., 20., 20., 20.,\n",
       "                   20., 20., 20., 20., 20., 20., 20., 20., 20., 20., 20.,\n",
       "                   20., 20., 20., 20., 20., 20., 20., 20., 20., 20., 20.,\n",
       "                   20., 20., 20., 20., 20., 20., 20., 20., 20., 20., 20.,\n",
       "                   20., 20., 20., 20., 20., 20., 20., 20., 20., 20., 20.,\n",
       "                   20., 20., 20., 20., 20., 20., 20., 20., 20., 20., 20.,\n",
       "                   20., 20., 20., 20., 20., 20., 20., 20., 20., 20., 20.,\n",
       "                   20., 20., 20., 20., 20., 20., 20., 20., 20., 20., 20.,\n",
       "                   20., 20., 20., 20., 20., 20., 20., 20., 20., 20., 20.,\n",
       "                   20., 20., 20., 20., 20., 20., 20., 20., 20., 20., 20.,\n",
       "                   20., 20., 20., 20., 20., 20., 20., 20., 20., 20., 20.,\n",
       "                   20., 20., 20., 20., 20., 20., 20., 20., 20., 20., 20.,\n",
       "                   20., 20., 20., 20., 20., 20., 20., 20., 20., 20., 20.,\n",
       "                   20., 20., 20., 20., 20., 20., 20., 20., 20., 20., 20.,\n",
       "                   20., 20., 20., 20., 20., 20., 20., 20., 20., 20., 20.,\n",
       "                   20., 20., 20., 20., 20., 20., 20., 20., 20., 20., 20.,\n",
       "                   20., 20., 20., 20., 20., 20., 20., 20., 20., 20., 20.,\n",
       "                   20., 20., 20., 20., 20., 20., 20., 20., 20., 20., 20.,\n",
       "                   20., 20., 20., 20., 20., 20., 20., 20., 20., 20., 20.,\n",
       "                   20., 20., 20., 20., 20., 20., 20., 20., 20., 20., 20.,\n",
       "                   20., 20., 20., 20., 20., 20., 20., 20., 20., 20., 20.,\n",
       "                   20., 20., 20., 20., 20., 20., 20., 20., 20., 20., 20.,\n",
       "                   20., 20., 20., 20., 20., 20., 20., 20., 20., 20., 20.,\n",
       "                   20., 20., 20., 20., 20., 20., 20., 20., 20., 20., 20.,\n",
       "                   20., 20., 20., 20., 20., 20., 20., 20., 20., 20., 20.,\n",
       "                   20., 20., 20., 20., 20., 20., 20., 20., 20., 20., 20.,\n",
       "                   20., 20., 20., 20., 20., 20., 20., 20., 20., 20., 20.,\n",
       "                   20., 20., 20., 20., 20., 20., 20., 20., 20., 20., 20.,\n",
       "                   20., 20., 20., 20., 20., 20., 20., 20., 20., 20., 20.,\n",
       "                   20., 20., 20., 20., 20., 20., 20., 20., 20., 20., 20.,\n",
       "                   20., 20., 20., 20., 20., 20., 20., 20., 20., 20., 20.,\n",
       "                   20., 20., 20., 20., 20., 20., 20., 20., 20., 20., 20.,\n",
       "                   20., 20., 20., 20., 20., 20., 20., 20., 20., 20., 20.,\n",
       "                   20., 20., 20., 20., 20., 20., 20., 20., 20., 20., 20.,\n",
       "                   20., 20., 20., 20., 20., 20., 20., 20., 20., 20., 20.,\n",
       "                   20., 20., 20., 20., 20., 20., 20., 20., 20., 20., 20.],\n",
       "             mask=False,\n",
       "       fill_value=1e+20,\n",
       "            dtype=float32)"
      ]
     },
     "execution_count": 179,
     "metadata": {},
     "output_type": "execute_result"
    }
   ],
   "source": [
    "r2.variables['sbd449_time_dayofmonth'][:]"
   ]
  },
  {
   "cell_type": "code",
   "execution_count": 167,
   "metadata": {},
   "outputs": [
    {
     "data": {
      "text/plain": [
       "((61,), (660, 61))"
      ]
     },
     "execution_count": 167,
     "metadata": {},
     "output_type": "execute_result"
    }
   ],
   "source": [
    "h.shape,z.shape"
   ]
  },
  {
   "cell_type": "code",
   "execution_count": 168,
   "metadata": {},
   "outputs": [],
   "source": [
    "lat=np.ma.filled(r2.variables['site_latitude_deg'])+np.ma.filled(r2.variables['site_latitude_min'])/60+np.ma.filled(r2.variables['site_latitude_sec'])/3600\n",
    "lon=np.ma.filled(r2.variables['site_longitude_deg'])+np.ma.filled(r2.variables['site_longitude_min'])/60+np.ma.filled(r2.variables['site_longitude_sec'])/3600"
   ]
  },
  {
   "cell_type": "code",
   "execution_count": 169,
   "metadata": {},
   "outputs": [
    {
     "name": "stdout",
     "output_type": "stream",
     "text": [
      "Latitude: 36.60499954223633\n",
      "Longitude: 97.48499298095703\n"
     ]
    }
   ],
   "source": [
    "print(f'Latitude: {lat[0]}')\n",
    "print(f'Longitude: {lon[0]}')"
   ]
  },
  {
   "cell_type": "code",
   "execution_count": 170,
   "metadata": {},
   "outputs": [],
   "source": [
    "y=np.ma.filled(r2.variables['sbd449_time_year'][:])\n",
    "m=np.ma.filled(r2.variables['sbd449_time_month'][:])\n",
    "d=np.ma.filled(r2.variables['sbd449_time_dayofmonth'][:])\n",
    "hr=np.ma.filled(r2.variables['sbd449_time_hour'][:])\n",
    "mn=np.ma.filled(r2.variables['sbd449_time_minute'][:])\n",
    "s=np.ma.filled(r2.variables['sbd449_time_second'][:])"
   ]
  },
  {
   "cell_type": "code",
   "execution_count": 171,
   "metadata": {},
   "outputs": [],
   "source": [
    "df={'Year':y,'Month':m,'Day':d,'Hour':hr,'Minute':mn,'Seconds':s}\n",
    "\n",
    "data=pd.DataFrame(df)\n",
    "\n",
    "#Only minutes and hrs is important"
   ]
  },
  {
   "cell_type": "code",
   "execution_count": 172,
   "metadata": {},
   "outputs": [
    {
     "name": "stdout",
     "output_type": "stream",
     "text": [
      "Choose the 23th point in the dataset to compare with Matthews data\n"
     ]
    }
   ],
   "source": [
    "index=0\n",
    "for i in range(len(y)):\n",
    "    if hr[i]==6.0:\n",
    "        if mn[i]==23.0:\n",
    "            index=i\n",
    "            print(f'Choose the {index}th point in the dataset to compare with Matthews data')"
   ]
  },
  {
   "cell_type": "code",
   "execution_count": 173,
   "metadata": {},
   "outputs": [
    {
     "data": {
      "text/plain": [
       "array([23.645681, 23.225454, 22.79854 , 22.481981, 22.7194  , 23.9732  ,\n",
       "       26.218311, 27.400927, 27.466686, 27.174414, 26.747446, 25.783548,\n",
       "       24.429562, 23.00142 , 22.434769, 22.92457 , 24.05726 , 25.184933,\n",
       "       26.065311, 26.320816, 26.276594, 26.150347, 26.249353, 26.84731 ,\n",
       "       27.54257 , 28.572063, 29.79554 , 30.00814 , 30.343565, 30.240475,\n",
       "       30.168932, 30.236753, 30.287813, 29.396278, 28.15441 , 27.026318,\n",
       "       26.182465, 26.162308, 25.732252, 25.831568, 25.456684, 24.619204,\n",
       "       23.14534 , 21.763517, 21.309687, 20.999771, 21.67168 , 23.18126 ,\n",
       "       26.223738, 29.796682, 30.757051, 29.043613, 25.465542, 22.603432,\n",
       "       22.599825, 23.662313, 24.794168, 26.332247, 26.337337, 26.136127,\n",
       "       26.652681], dtype=float32)"
      ]
     },
     "execution_count": 173,
     "metadata": {},
     "output_type": "execute_result"
    }
   ],
   "source": [
    "z_m=np.ma.filled(np.ma.filled(r2.variables['sbd449_Dm_mu_Z'][index,:]))\n",
    "z_m"
   ]
  },
  {
   "cell_type": "code",
   "execution_count": 174,
   "metadata": {},
   "outputs": [
    {
     "data": {
      "image/png": "[encoded data removed]",
      "text/plain": [
       "<Figure size 640x480 with 1 Axes>"
      ]
     },
     "metadata": {},
     "output_type": "display_data"
    }
   ],
   "source": [
    "#Plotting reflectivity vs height\n",
    "plt.plot(h,z_m,'-o',label='Williams data')\n",
    "plt.plot(req[0,:-8]*1000,req[1,:-8],'-o',label='Matthews data')\n",
    "plt.xlabel('Altitude')\n",
    "plt.ylabel('Reflectivity')\n",
    "plt.legend(loc='center left', bbox_to_anchor=(1, 0.5))\n",
    "plt.show()"
   ]
  },
  {
   "cell_type": "code",
   "execution_count": 175,
   "metadata": {},
   "outputs": [
    {
     "data": {
      "text/plain": [
       "array([23.645681, 23.225454, 22.79854 , 22.481981, 22.7194  , 23.9732  ,\n",
       "       26.218311, 27.400927, 27.466686, 27.174414, 26.747446, 25.783548,\n",
       "       24.429562, 23.00142 , 22.434769, 22.92457 , 24.05726 , 25.184933,\n",
       "       26.065311, 26.320816, 26.276594, 26.150347, 26.249353, 26.84731 ,\n",
       "       27.54257 , 28.572063, 29.79554 , 30.00814 , 30.343565, 30.240475,\n",
       "       30.168932, 30.236753, 30.287813, 29.396278, 28.15441 , 27.026318,\n",
       "       26.182465, 26.162308, 25.732252, 25.831568, 25.456684, 24.619204,\n",
       "       23.14534 , 21.763517, 21.309687, 20.999771, 21.67168 , 23.18126 ,\n",
       "       26.223738, 29.796682, 30.757051, 29.043613, 25.465542, 22.603432,\n",
       "       22.599825, 23.662313, 24.794168, 26.332247, 26.337337, 26.136127,\n",
       "       26.652681], dtype=float32)"
      ]
     },
     "execution_count": 175,
     "metadata": {},
     "output_type": "execute_result"
    }
   ],
   "source": [
    "z_m"
   ]
  }
 ],
 "metadata": {
  "kernelspec": {
   "display_name": "Python 3",
   "language": "python",
   "name": "python3"
  },
  "language_info": {
   "codemirror_mode": {
    "name": "ipython",
    "version": 3
   },
   "file_extension": ".py",
   "mimetype": "text/x-python",
   "name": "python",
   "nbconvert_exporter": "python",
   "pygments_lexer": "ipython3",
   "version": "3.7.3"
  }
 },
 "nbformat": 4,
 "nbformat_minor": 2
}
